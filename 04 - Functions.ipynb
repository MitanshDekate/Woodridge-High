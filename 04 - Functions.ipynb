{
 "cells": [
  {
   "cell_type": "code",
   "execution_count": null,
   "id": "c1b9aa8f",
   "metadata": {},
   "outputs": [],
   "source": [
    "#Types of Functions:\n",
    "\n",
    "#1. Input & Output functions : input, print\n",
    "#2. Datatype conversion functions : int, float, str\n",
    "#3. Mathematical functions: min, max, sum, len, pow, divmod, abs\n",
    "#4. Others : chr, ord, range"
   ]
  },
  {
   "cell_type": "code",
   "execution_count": 1,
   "id": "695b8741",
   "metadata": {},
   "outputs": [
    {
     "name": "stdout",
     "output_type": "stream",
     "text": [
      "Enter your name: Suresh\n",
      "Enter your age : 17\n",
      "Suresh is 17 years old\n"
     ]
    }
   ],
   "source": [
    "# 1. Input Output functions:\n",
    "\n",
    "a=input('Enter your name: ')\n",
    "b=int(input('Enter your age : '))    # int(input) means it will accept only integer values as input\n",
    "\n",
    "print(a,'is',b,'years old')"
   ]
  },
  {
   "cell_type": "code",
   "execution_count": 2,
   "id": "8f83ceaa",
   "metadata": {},
   "outputs": [
    {
     "name": "stdout",
     "output_type": "stream",
     "text": [
      "Enter your name: Ramesh\n",
      "Enter your age: 18\n",
      "Enter your height in metres: 1.5\n",
      "Enter your weight in kgs: 50\n",
      "The BMI of Ramesh at the age of 18 is 22.22222222222222\n"
     ]
    }
   ],
   "source": [
    "# Input on basis of datatype :\n",
    "# NOTE: If no datatype is mentioned, it is a string by default.\n",
    "\n",
    "name = input('Enter your name: ')\n",
    "age = int(input('Enter your age: '))\n",
    "height = float(input('Enter your height in metres: '))\n",
    "weight = float(input('Enter your weight in kgs: '))\n",
    "\n",
    "BMI = weight/(height**2)\n",
    "\n",
    "print ('The BMI of', name , 'at the age of' , age , 'is' , BMI)"
   ]
  },
  {
   "cell_type": "code",
   "execution_count": 3,
   "id": "49347a3f",
   "metadata": {},
   "outputs": [
    {
     "name": "stdout",
     "output_type": "stream",
     "text": [
      "10.0\n"
     ]
    }
   ],
   "source": [
    "# 2. Datatype conversion functions:\n",
    "\n",
    "a = 10\n",
    "b = float(a)  #This will convert 'a' into float\n",
    "\n",
    "print(b)"
   ]
  },
  {
   "cell_type": "code",
   "execution_count": 4,
   "id": "5842ffb0",
   "metadata": {},
   "outputs": [
    {
     "name": "stdout",
     "output_type": "stream",
     "text": [
      "30\n",
      "51015\n"
     ]
    }
   ],
   "source": [
    "m, n, o = 5, 10, 15\n",
    "x, y, z = str(m), str(n), str(o)    # this will convert m, n, o into string\n",
    "\n",
    "print(m+n+o)   #this is adddition of numbers\n",
    "print(x+y+z)   #this is concatenation/merging of strings "
   ]
  },
  {
   "cell_type": "code",
   "execution_count": 5,
   "id": "893d548f",
   "metadata": {},
   "outputs": [
    {
     "name": "stdout",
     "output_type": "stream",
     "text": [
      "Enter marks in English: 75\n",
      "Enter marks in Maths: 100\n",
      "75100\n"
     ]
    }
   ],
   "source": [
    "eng = input('Enter marks in English: ')   # values will be stored as string since we have not given int(input)\n",
    "math = input('Enter marks in Maths: ')\n",
    "\n",
    "total = eng+math   # this will not add the numbers instead print the two numbers together because they are strings\n",
    "\n",
    "print (total)   "
   ]
  },
  {
   "cell_type": "code",
   "execution_count": 6,
   "id": "35ebfb65",
   "metadata": {},
   "outputs": [
    {
     "name": "stdout",
     "output_type": "stream",
     "text": [
      "Enter marks in English: 75\n",
      "Enter marks in Maths: 100\n",
      "175\n"
     ]
    }
   ],
   "source": [
    "eng = int(input('Enter marks in English: '))   # values will be stored as integer since we have given int(input)\n",
    "math = int(input('Enter marks in Maths: '))\n",
    "\n",
    "total = eng+math   # this will add the marks of eng and maths\n",
    "\n",
    "print (total)   "
   ]
  },
  {
   "cell_type": "code",
   "execution_count": 7,
   "id": "08d62777",
   "metadata": {},
   "outputs": [
    {
     "name": "stdout",
     "output_type": "stream",
     "text": [
      "1\n",
      "48\n",
      "148\n",
      "7\n",
      "21.142857142857142\n"
     ]
    }
   ],
   "source": [
    "# 3. Mathematical Functions\n",
    "\n",
    "# min, max, sum, len :\n",
    "\n",
    "list = [30, 48, 14, 33, 1, 4, 18]\n",
    "\n",
    "print(min(list))    #prints minimum value in the list\n",
    "print(max(list))    #prints maximum value in the list\n",
    "\n",
    "print(sum(list))              #prints sum of all elements in the list\n",
    "print(len(list))              #prints the total number of elements in the list\n",
    "print(sum(list)/len(list))    #prints average of all the values in the list"
   ]
  },
  {
   "cell_type": "code",
   "execution_count": 8,
   "id": "595c7227",
   "metadata": {},
   "outputs": [
    {
     "name": "stdout",
     "output_type": "stream",
     "text": [
      "25\n",
      "(9, 2)\n",
      "4\n"
     ]
    }
   ],
   "source": [
    "# pow, divmod, abs:\n",
    "\n",
    "print(pow(5, 2))         # prints 5 to the power 2 = 5^2 = 25\n",
    "\n",
    "print(divmod(29, 3))     # prints (div,mod) or (quotient, remainder) after division\n",
    "\n",
    "print(abs(-4))           # prints positive value of any given integer/float input"
   ]
  },
  {
   "cell_type": "code",
   "execution_count": null,
   "id": "b0ac84e8",
   "metadata": {},
   "outputs": [],
   "source": [
    "# 4. Other functions:\n",
    "\n",
    "# chr and ord\n",
    "\n",
    "# "
   ]
  }
 ],
 "metadata": {
  "kernelspec": {
   "display_name": "Python 3",
   "language": "python",
   "name": "python3"
  },
  "language_info": {
   "codemirror_mode": {
    "name": "ipython",
    "version": 3
   },
   "file_extension": ".py",
   "mimetype": "text/x-python",
   "name": "python",
   "nbconvert_exporter": "python",
   "pygments_lexer": "ipython3",
   "version": "3.8.8"
  }
 },
 "nbformat": 4,
 "nbformat_minor": 5
}
