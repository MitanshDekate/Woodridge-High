{
 "cells": [
  {
   "cell_type": "code",
   "execution_count": 1,
   "id": "4da3de96",
   "metadata": {},
   "outputs": [
    {
     "name": "stdout",
     "output_type": "stream",
     "text": [
      "30\n"
     ]
    }
   ],
   "source": [
    "# Q.2) Write a program to find the sum of two numbers:\n",
    "\n",
    "a=10\n",
    "b=20\n",
    "print(a+b)"
   ]
  },
  {
   "cell_type": "code",
   "execution_count": 2,
   "id": "b1826840",
   "metadata": {},
   "outputs": [
    {
     "name": "stdout",
     "output_type": "stream",
     "text": [
      "The area of the circle is 154.0\n"
     ]
    }
   ],
   "source": [
    "# Q.3) Write a program to find the area of a circle\n",
    "\n",
    "r = 7\n",
    "A = (22/7)*r**2\n",
    "print('The area of the circle is', A)"
   ]
  },
  {
   "cell_type": "code",
   "execution_count": 3,
   "id": "76a88d78",
   "metadata": {},
   "outputs": [
    {
     "name": "stdout",
     "output_type": "stream",
     "text": [
      "The largest and smallest numbers in the list are 1 and 19 respectively.\n"
     ]
    }
   ],
   "source": [
    "# Q.5) To find the largest and smallest numbers in a list.\n",
    "\n",
    "list=[1,3,5,7,9,11,13,15,17,19]\n",
    "\n",
    "print('The largest and smallest numbers in the list are', min(list),'and',max(list),'respectively.')"
   ]
  },
  {
   "cell_type": "code",
   "execution_count": 4,
   "id": "99c87fd4",
   "metadata": {},
   "outputs": [
    {
     "name": "stdout",
     "output_type": "stream",
     "text": [
      "The answer is -18.0\n",
      "The datatype of the final answer is <class 'float'>\n"
     ]
    }
   ],
   "source": [
    "# Q.7) Find The Output of ((a*b)/(b+c))-(c+a) where a=5,b=10,c=15. Also Find the data type of the final answer.\n",
    "\n",
    "a,b,c=5,10,15\n",
    "\n",
    "ans=((a*b)/(b+c))-(c+a)\n",
    "\n",
    "print('The answer is', ans)\n",
    "print('The datatype of the final answer is', type(ans))"
   ]
  },
  {
   "cell_type": "code",
   "execution_count": 5,
   "id": "0ada385f",
   "metadata": {},
   "outputs": [
    {
     "name": "stdout",
     "output_type": "stream",
     "text": [
      "70\n",
      "-30\n",
      "True\n",
      "False\n"
     ]
    }
   ],
   "source": [
    "# Q.8) Give an Example of 2 Arithmetic & Relational Operators each.\t\n",
    "\n",
    "x,y=20,50\n",
    "\n",
    "# Arithmetic operators (sum and difference)\n",
    "\n",
    "print(x+y)\n",
    "print(x-y)\n",
    "\n",
    "# Relational operators (not equal to and greater than)\n",
    "print(x!=y)\n",
    "print(x>y)"
   ]
  },
  {
   "cell_type": "code",
   "execution_count": 6,
   "id": "abcb1e71",
   "metadata": {},
   "outputs": [
    {
     "name": "stdout",
     "output_type": "stream",
     "text": [
      "Enter your age: 20\n",
      "You are eligible to vote.\n"
     ]
    }
   ],
   "source": [
    "# Q.10) Using Input & Output statements & if...else loop show whether a person is eligible to vote or not. age criteria is 18 yrs.\n",
    "\n",
    "age=int(input('Enter your age: '))\n",
    "\n",
    "if age>=18:\n",
    "    print('You are eligible to vote.')\n",
    "else:\n",
    "    print('You are not eligible to vote.')\n",
    "    "
   ]
  },
  {
   "cell_type": "code",
   "execution_count": 7,
   "id": "5a49db34",
   "metadata": {},
   "outputs": [
    {
     "name": "stdout",
     "output_type": "stream",
     "text": [
      "Enter principle amount: 1000\n",
      "Enter rate of interest p.a.: 10\n",
      "Enter no. of years: 10\n",
      "The SI for your input is Rs. 1000.0\n"
     ]
    }
   ],
   "source": [
    "# Q.13) Using i/p & o/p  statement find Simple interest.\n",
    "\n",
    "p=float(input('Enter principle amount: '))\n",
    "r=float(input('Enter rate of interest p.a.: '))\n",
    "t=int(input('Enter no. of years: '))\n",
    "\n",
    "SI=(p*r*t)/100\n",
    "\n",
    "print('The SI for your input is Rs.', SI)"
   ]
  },
  {
   "cell_type": "code",
   "execution_count": 8,
   "id": "e4203837",
   "metadata": {},
   "outputs": [
    {
     "name": "stdout",
     "output_type": "stream",
     "text": [
      "MH : ('Mumbai', 'Nagpur', 'Pune')\n",
      "CG : ('Raipur', 'Bhilai', 'Bilaspur')\n",
      "GJ : Gandhinagar\n",
      "RJ : Jaipur\n"
     ]
    }
   ],
   "source": [
    "#Q.14) Create a dictionary to store names of states and cities.\n",
    "\n",
    "dict={\n",
    "    'MH':('Mumbai','Nagpur','Pune'),\n",
    "    'CG':('Raipur','Bhilai','Bilaspur'),\n",
    "    'GJ':'Gandhinagar',\n",
    "    'RJ':'Jaipur'\n",
    "}\n",
    "\n",
    "for k,v in dict.items():\n",
    "    print(k,':',v)"
   ]
  }
 ],
 "metadata": {
  "kernelspec": {
   "display_name": "Python 3",
   "language": "python",
   "name": "python3"
  },
  "language_info": {
   "codemirror_mode": {
    "name": "ipython",
    "version": 3
   },
   "file_extension": ".py",
   "mimetype": "text/x-python",
   "name": "python",
   "nbconvert_exporter": "python",
   "pygments_lexer": "ipython3",
   "version": "3.8.8"
  }
 },
 "nbformat": 4,
 "nbformat_minor": 5
}
