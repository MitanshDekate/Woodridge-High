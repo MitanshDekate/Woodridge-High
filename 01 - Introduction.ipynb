{
 "cells": [
  {
   "cell_type": "code",
   "execution_count": 4,
   "id": "96d2d0fe",
   "metadata": {},
   "outputs": [
    {
     "name": "stdout",
     "output_type": "stream",
     "text": [
      "30\n",
      "15.0\n"
     ]
    }
   ],
   "source": [
    "a=10\n",
    "b=20\n",
    "\n",
    "print(a+b)\n",
    "print (a*(a+b)/b)"
   ]
  },
  {
   "cell_type": "code",
   "execution_count": 5,
   "id": "8596d7e2",
   "metadata": {},
   "outputs": [
    {
     "name": "stdout",
     "output_type": "stream",
     "text": [
      "5 honest 5.5\n",
      "All 5 students who scored 5.5 were honest\n"
     ]
    }
   ],
   "source": [
    "x,y,z=5,\"honest\",5.5\n",
    "\n",
    "print(x,y,z)\n",
    "print(\"All\",x,\"students who scored\",z,\"were\",y)"
   ]
  },
  {
   "cell_type": "code",
   "execution_count": 6,
   "id": "67bea420",
   "metadata": {},
   "outputs": [
    {
     "name": "stdout",
     "output_type": "stream",
     "text": [
      "10 students have scored above 90.5 percent in Informative Practices\n"
     ]
    }
   ],
   "source": [
    "m,n,o=10,\"Informative Practices\",90.5\n",
    "\n",
    "print(m,\"students have scored above\",o,\"percent in\",n)"
   ]
  },
  {
   "cell_type": "code",
   "execution_count": 10,
   "id": "98d1e344",
   "metadata": {},
   "outputs": [
    {
     "name": "stdout",
     "output_type": "stream",
     "text": [
      "Area of rectangle is 6\n"
     ]
    }
   ],
   "source": [
    "l,b=2,3\n",
    "\n",
    "#Area of rectangle\n",
    "A=l*b\n",
    "print(\"Area of rectangle is\",A)"
   ]
  },
  {
   "cell_type": "code",
   "execution_count": 11,
   "id": "57b042ba",
   "metadata": {},
   "outputs": [
    {
     "name": "stdout",
     "output_type": "stream",
     "text": [
      "Simple interest is 500.0\n"
     ]
    }
   ],
   "source": [
    "p,r,t=10000,2,2.5\n",
    "\n",
    "#Simple Interest\n",
    "SI=(p*r*t)/100\n",
    "print(\"Simple interest is\", SI)"
   ]
  },
  {
   "cell_type": "code",
   "execution_count": 17,
   "id": "dd13e4f0",
   "metadata": {},
   "outputs": [
    {
     "name": "stdout",
     "output_type": "stream",
     "text": [
      "Volume of the sphere is 33.49333333333333\n"
     ]
    }
   ],
   "source": [
    "r=2\n",
    "\n",
    "#Volume of sphere \n",
    "V=(4/3)*(3.14)*(r**3)\n",
    "print(\"Volume of the sphere is\",V)"
   ]
  },
  {
   "cell_type": "code",
   "execution_count": null,
   "id": "28d22a4f",
   "metadata": {},
   "outputs": [],
   "source": [
    "#List, Tuple, Dictionary\n",
    "l=[list]\n",
    "t=(tuple)\n",
    "d={\n",
    "    dictionary\n",
    "}"
   ]
  },
  {
   "cell_type": "code",
   "execution_count": 41,
   "id": "a60e3cff",
   "metadata": {},
   "outputs": [
    {
     "name": "stdout",
     "output_type": "stream",
     "text": [
      "['Apple', 'Mango', 'Banana', 'Grapes', 'Orange', 'Peach', 'Avocado', 'Melon', 'Lemon', 'Lime', 'Coconut']\n",
      "['Apple', 'Mango', 'Banana', 'Grapes', 'Orange']\n",
      "['Avocado', 'Melon', 'Lemon', 'Lime', 'Coconut']\n"
     ]
    }
   ],
   "source": [
    "#Example of List:\n",
    "f=[\"Apple\",\"Mango\",\"Banana\",\"Grapes\",\"Orange\",\"Peach\",\"Avocado\",\"Melon\",\"Lemon\",\"Lime\",\"Coconut\"]\n",
    "print(f)\n",
    "print(f[0:5])\n",
    "print(f[6:11])"
   ]
  },
  {
   "cell_type": "code",
   "execution_count": 32,
   "id": "99abbd03",
   "metadata": {},
   "outputs": [
    {
     "name": "stdout",
     "output_type": "stream",
     "text": [
      "['Apple', 'Mango', 'Banana', 'Grapes', 'Peach', 'Avocado', 'Melon', 'Lemon', 'Lime', 'Coconut']\n"
     ]
    }
   ],
   "source": [
    "#Removing element from list:\n",
    "#method-1\n",
    "f.remove(\"Orange\")\n",
    "print(f)"
   ]
  },
  {
   "cell_type": "code",
   "execution_count": 33,
   "id": "e195b53b",
   "metadata": {},
   "outputs": [
    {
     "name": "stdout",
     "output_type": "stream",
     "text": [
      "['Apple', 'Mango', 'Banana', 'Peach', 'Avocado', 'Melon', 'Lemon', 'Lime', 'Coconut']\n"
     ]
    }
   ],
   "source": [
    "#method-2\n",
    "f.pop(3)\n",
    "print(f)"
   ]
  },
  {
   "cell_type": "code",
   "execution_count": 42,
   "id": "5ce676f6",
   "metadata": {},
   "outputs": [
    {
     "name": "stdout",
     "output_type": "stream",
     "text": [
      "('Audi', 'BMW', 'Ford', 'Lambhorghini', 'Mercedes', 'Maruti', 'Chevrolet', 'Tesla')\n",
      "('Audi', 'BMW', 'Ford')\n",
      "('Mercedes', 'Maruti', 'Chevrolet')\n"
     ]
    }
   ],
   "source": [
    "#Example of Tuple:\n",
    "#Note: Elements cannot be removed from a tuple\n",
    "c=('Audi',\"BMW\",'Ford','Lambhorghini',\"Mercedes\",'Maruti','Chevrolet','Tesla')\n",
    "print(c)\n",
    "print(c[0:3])\n",
    "print(c[4:7])"
   ]
  },
  {
   "cell_type": "code",
   "execution_count": 57,
   "id": "4c985e38",
   "metadata": {},
   "outputs": [
    {
     "name": "stdout",
     "output_type": "stream",
     "text": [
      "{'IND': 'Tata', 'Germany': 'BMW', 'USA': 'Tesla', 'UK': 'Rolls Royce', 'Movie': 'Spiderman', 'Fruit': 'Apple'}\n",
      "Tata , Tesla\n"
     ]
    }
   ],
   "source": [
    "#Example of Dictionary:\n",
    "s={\n",
    "    \"IND\":\"Tata\",\n",
    "    \"Germany\":\"BMW\",\n",
    "    \"USA\":\"Tesla\",\n",
    "    \"UK\":\"Rolls Royce\",\n",
    "    \"Movie\":\"Spiderman\",\n",
    "    \"Fruit\":\"Apple\"}\n",
    "\n",
    "print(s)\n",
    "\n",
    "print(s[\"IND\"],\",\",s[\"USA\"])"
   ]
  },
  {
   "cell_type": "code",
   "execution_count": 1,
   "id": "0487b870",
   "metadata": {},
   "outputs": [
    {
     "data": {
      "text/plain": [
       "65"
      ]
     },
     "execution_count": 1,
     "metadata": {},
     "output_type": "execute_result"
    }
   ],
   "source": [
    "ord(\"A\")"
   ]
  },
  {
   "cell_type": "code",
   "execution_count": 9,
   "id": "5361eb9b",
   "metadata": {},
   "outputs": [
    {
     "data": {
      "text/plain": [
       "98"
      ]
     },
     "execution_count": 9,
     "metadata": {},
     "output_type": "execute_result"
    }
   ],
   "source": [
    "ord(\"b\")"
   ]
  },
  {
   "cell_type": "code",
   "execution_count": 10,
   "id": "32b447f9",
   "metadata": {},
   "outputs": [
    {
     "data": {
      "text/plain": [
       "105"
      ]
     },
     "execution_count": 10,
     "metadata": {},
     "output_type": "execute_result"
    }
   ],
   "source": [
    "ord(\"i\")"
   ]
  },
  {
   "cell_type": "code",
   "execution_count": 11,
   "id": "ac8c07a4",
   "metadata": {},
   "outputs": [
    {
     "data": {
      "text/plain": [
       "114"
      ]
     },
     "execution_count": 11,
     "metadata": {},
     "output_type": "execute_result"
    }
   ],
   "source": [
    "ord(\"r\")"
   ]
  },
  {
   "cell_type": "code",
   "execution_count": 12,
   "id": "9d6fd98f",
   "metadata": {},
   "outputs": [
    {
     "data": {
      "text/plain": [
       "100"
      ]
     },
     "execution_count": 12,
     "metadata": {},
     "output_type": "execute_result"
    }
   ],
   "source": [
    "ord(\"d\")"
   ]
  },
  {
   "cell_type": "code",
   "execution_count": null,
   "id": "398a9ba6",
   "metadata": {},
   "outputs": [],
   "source": []
  }
 ],
 "metadata": {
  "kernelspec": {
   "display_name": "Python 3",
   "language": "python",
   "name": "python3"
  },
  "language_info": {
   "codemirror_mode": {
    "name": "ipython",
    "version": 3
   },
   "file_extension": ".py",
   "mimetype": "text/x-python",
   "name": "python",
   "nbconvert_exporter": "python",
   "pygments_lexer": "ipython3",
   "version": "3.8.8"
  }
 },
 "nbformat": 4,
 "nbformat_minor": 5
}
