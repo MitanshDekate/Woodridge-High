{
 "cells": [
  {
   "cell_type": "code",
   "execution_count": null,
   "id": "10650965",
   "metadata": {},
   "outputs": [],
   "source": [
    "#Keywords:\n",
    "True False\n",
    "if elif else / while / for\n",
    "def\n",
    "global\n",
    "import / as\n",
    "and / or / not\n",
    "break / del / from"
   ]
  },
  {
   "cell_type": "code",
   "execution_count": null,
   "id": "335569e7",
   "metadata": {},
   "outputs": [],
   "source": [
    "#IDENTIFIERS:\n",
    "\n",
    "#Correct Ways:\n",
    "a=10\n",
    "a=(10,12,13,17)\n",
    "a,b,c,d=10,12,13,17\n",
    "roll_number=12\n",
    "\n",
    "#Wrong Ways:\n",
    "\n",
    "# 1. Do not start with \"@, #, $, %\" or any other special symbol.\n",
    "        @roll_number=12     --->   error\n",
    "    \n",
    "# 2. Do not start with a number/digit.\n",
    "        10_roll_number=12   --->   error\n",
    "    \n",
    "# 3. Do not add spaces between characters while defining a variable.\n",
    "        roll number=12      --->   error\n",
    "    \n",
    "# 4. Keywords can't be assigned values (used to define variables).\n",
    "        True=12   --->   error\n",
    "        if=10     --->   error"
   ]
  },
  {
   "cell_type": "code",
   "execution_count": null,
   "id": "48389c38",
   "metadata": {},
   "outputs": [],
   "source": [
    "#Variables:\n",
    "#Datatype [10 --> Integer, 99.5 --> Decimal/Float, \"Mitansh\" --> String]"
   ]
  },
  {
   "cell_type": "code",
   "execution_count": 1,
   "id": "321b084f",
   "metadata": {},
   "outputs": [],
   "source": [
    "a=10\n",
    "roll_number=30\n",
    "Percent=95.7\n",
    "fruit='Apple'"
   ]
  },
  {
   "cell_type": "code",
   "execution_count": 5,
   "id": "ca395ace",
   "metadata": {},
   "outputs": [
    {
     "data": {
      "text/plain": [
       "str"
      ]
     },
     "execution_count": 5,
     "metadata": {},
     "output_type": "execute_result"
    }
   ],
   "source": [
    "type(fruit)"
   ]
  },
  {
   "cell_type": "code",
   "execution_count": 7,
   "id": "a5f31d3a",
   "metadata": {},
   "outputs": [
    {
     "name": "stdout",
     "output_type": "stream",
     "text": [
      "37.5\n",
      "<class 'float'>\n"
     ]
    }
   ],
   "source": [
    "a,b,c=4,10,15\n",
    "d=(c*b)/a\n",
    "\n",
    "print(d)\n",
    "print(type(d))"
   ]
  },
  {
   "cell_type": "code",
   "execution_count": 23,
   "id": "fb033899",
   "metadata": {},
   "outputs": [
    {
     "name": "stdout",
     "output_type": "stream",
     "text": [
      "Mitansh is a student of Grade 11. \n",
      " He studies in woodridge high\n"
     ]
    }
   ],
   "source": [
    "a=\"Mitansh is a student of Grade 11.\"\n",
    "b=\"He studies in woodridge high\"\n",
    "print(a,\"\\n\",b)"
   ]
  },
  {
   "cell_type": "code",
   "execution_count": null,
   "id": "6c49d61a",
   "metadata": {},
   "outputs": [],
   "source": [
    "#Sequencing (Tuple, List)\n",
    "#Mapping (Dictionary)"
   ]
  },
  {
   "cell_type": "code",
   "execution_count": 25,
   "id": "7b947047",
   "metadata": {},
   "outputs": [],
   "source": [
    "#Tuple:\n",
    "\n",
    "a=(12, 86, 21, 76, 92)\n",
    "b=(98.4, 89.2, 85.2)\n",
    "c=('Mitansh', 'Ishita', 'Om', 'Betsy')\n",
    "d=(86, 'Mitansh', 57.9, 92)"
   ]
  },
  {
   "cell_type": "code",
   "execution_count": 26,
   "id": "23bcea7e",
   "metadata": {},
   "outputs": [
    {
     "name": "stdout",
     "output_type": "stream",
     "text": [
      "(12, 86, 21, 76, 92)\n",
      "(98.4, 89.2, 85.2)\n",
      "('Mitansh', 'Ishita', 'Om', 'Betsy')\n",
      "(86, 'Mitansh', 57.9, 92)\n"
     ]
    }
   ],
   "source": [
    "print(a)\n",
    "print(b)\n",
    "print(c)\n",
    "print(d)"
   ]
  },
  {
   "cell_type": "code",
   "execution_count": 27,
   "id": "faa8c985",
   "metadata": {},
   "outputs": [
    {
     "ename": "AttributeError",
     "evalue": "'tuple' object has no attribute 'remove'",
     "output_type": "error",
     "traceback": [
      "\u001b[1;31m---------------------------------------------------------------------------\u001b[0m",
      "\u001b[1;31mAttributeError\u001b[0m                            Traceback (most recent call last)",
      "\u001b[1;32m<ipython-input-27-75152a456f57>\u001b[0m in \u001b[0;36m<module>\u001b[1;34m\u001b[0m\n\u001b[1;32m----> 1\u001b[1;33m \u001b[0ma\u001b[0m\u001b[1;33m.\u001b[0m\u001b[0mremove\u001b[0m\u001b[1;33m(\u001b[0m\u001b[1;36m12\u001b[0m\u001b[1;33m)\u001b[0m\u001b[1;33m\u001b[0m\u001b[1;33m\u001b[0m\u001b[0m\n\u001b[0m",
      "\u001b[1;31mAttributeError\u001b[0m: 'tuple' object has no attribute 'remove'"
     ]
    }
   ],
   "source": [
    "a.remove(12)"
   ]
  },
  {
   "cell_type": "code",
   "execution_count": 2,
   "id": "c621c8b2",
   "metadata": {},
   "outputs": [],
   "source": [
    "#List:\n",
    "\n",
    "p=[12, 86, 21, 76, 92]\n",
    "q=[98.4, 89.2, 85.2]\n",
    "r=['Mitansh', 'Ishita', 'Om', 'Betsy']\n",
    "s=[86, 'Mitansh', 57.9, 92]"
   ]
  },
  {
   "cell_type": "code",
   "execution_count": 3,
   "id": "69ea7b7a",
   "metadata": {},
   "outputs": [
    {
     "name": "stdout",
     "output_type": "stream",
     "text": [
      "[12, 86, 21, 76, 92]\n",
      "[98.4, 89.2, 85.2]\n",
      "['Mitansh', 'Ishita', 'Om', 'Betsy']\n",
      "[86, 'Mitansh', 57.9, 92]\n"
     ]
    }
   ],
   "source": [
    "print(p)\n",
    "print(q)\n",
    "print(r)\n",
    "print(s)"
   ]
  },
  {
   "cell_type": "code",
   "execution_count": 4,
   "id": "380af133",
   "metadata": {},
   "outputs": [],
   "source": [
    "p.remove(12)"
   ]
  },
  {
   "cell_type": "code",
   "execution_count": 5,
   "id": "0cf3c6e3",
   "metadata": {},
   "outputs": [
    {
     "name": "stdout",
     "output_type": "stream",
     "text": [
      "[86, 21, 76, 92]\n"
     ]
    }
   ],
   "source": [
    "print(p)"
   ]
  },
  {
   "cell_type": "code",
   "execution_count": 8,
   "id": "99b7d7f7",
   "metadata": {},
   "outputs": [],
   "source": [
    "#Dictionary:\n",
    "\n",
    "m={\n",
    "    'Fruit':['Apple', 'Mango','Grapes'],\n",
    "    'Car':('Tesla','BMW','Audi'),\n",
    "    'Watch':('Rolex', 1000),\n",
    "    'Country':'India'\n",
    "}"
   ]
  },
  {
   "cell_type": "code",
   "execution_count": 9,
   "id": "af68a559",
   "metadata": {},
   "outputs": [
    {
     "name": "stdout",
     "output_type": "stream",
     "text": [
      "{'Fruit': ['Apple', 'Mango', 'Grapes'], 'Car': ('Tesla', 'BMW', 'Audi'), 'Watch': ('Rolex', 1000), 'Country': 'India'}\n"
     ]
    }
   ],
   "source": [
    "print(m)"
   ]
  },
  {
   "cell_type": "code",
   "execution_count": 7,
   "id": "0c17abfa",
   "metadata": {},
   "outputs": [],
   "source": [
    "technology={\n",
    "    'Hardware':['Mouse', 'Keyboard', 'Monitor'],\n",
    "    'Software':('Whatsapp', 'Telegram', 'Discord'),\n",
    "    'OS':('Linux', 'Windows', 'MacOS'),\n",
    "    'Gadgets':'iPhone'\n",
    "}"
   ]
  },
  {
   "cell_type": "code",
   "execution_count": 8,
   "id": "56d0d5d9",
   "metadata": {},
   "outputs": [
    {
     "name": "stdout",
     "output_type": "stream",
     "text": [
      "{'Hardware': ['Mouse', 'Keyboard', 'Monitor'], 'Software': ('Whatsapp', 'Telegram', 'Discord'), 'OS': ('Linux', 'Windows', 'MacOS'), 'Gadgets': 'iPhone'}\n"
     ]
    }
   ],
   "source": [
    "print(technology)"
   ]
  },
  {
   "cell_type": "code",
   "execution_count": 9,
   "id": "e3f97997",
   "metadata": {},
   "outputs": [
    {
     "name": "stdout",
     "output_type": "stream",
     "text": [
      "Hardware : ['Mouse', 'Keyboard', 'Monitor']\n",
      "Software : ('Whatsapp', 'Telegram', 'Discord')\n",
      "OS : ('Linux', 'Windows', 'MacOS')\n",
      "Gadgets : iPhone\n"
     ]
    }
   ],
   "source": [
    "for k,v in technology.items():\n",
    "    print(k,':',v)"
   ]
  },
  {
   "cell_type": "code",
   "execution_count": 10,
   "id": "029d72a2",
   "metadata": {},
   "outputs": [],
   "source": [
    "#Operators:\n",
    "\n",
    "#1. Arithmetic Operators (+ - * / ** // %)"
   ]
  },
  {
   "cell_type": "code",
   "execution_count": 16,
   "id": "c4e4ba01",
   "metadata": {},
   "outputs": [
    {
     "name": "stdout",
     "output_type": "stream",
     "text": [
      "30\n"
     ]
    }
   ],
   "source": [
    "a,b,c,d=5,10,15,3\n",
    "\n",
    "print(a+b+c)"
   ]
  },
  {
   "cell_type": "code",
   "execution_count": 17,
   "id": "52a1c8f8",
   "metadata": {},
   "outputs": [
    {
     "name": "stdout",
     "output_type": "stream",
     "text": [
      "10\n"
     ]
    }
   ],
   "source": [
    "print(a+c-b)"
   ]
  },
  {
   "cell_type": "code",
   "execution_count": 18,
   "id": "cb004d2b",
   "metadata": {},
   "outputs": [
    {
     "name": "stdout",
     "output_type": "stream",
     "text": [
      "50\n"
     ]
    }
   ],
   "source": [
    "print(a*b)"
   ]
  },
  {
   "cell_type": "code",
   "execution_count": 21,
   "id": "aa9c40ab",
   "metadata": {},
   "outputs": [
    {
     "name": "stdout",
     "output_type": "stream",
     "text": [
      "3.3333333333333335\n"
     ]
    }
   ],
   "source": [
    "print(b/d)"
   ]
  },
  {
   "cell_type": "code",
   "execution_count": 22,
   "id": "a3366865",
   "metadata": {},
   "outputs": [
    {
     "name": "stdout",
     "output_type": "stream",
     "text": [
      "3\n"
     ]
    }
   ],
   "source": [
    "print(b//d)"
   ]
  },
  {
   "cell_type": "code",
   "execution_count": 23,
   "id": "b55c3fdd",
   "metadata": {},
   "outputs": [
    {
     "name": "stdout",
     "output_type": "stream",
     "text": [
      "1\n"
     ]
    }
   ],
   "source": [
    "# 10/3 ----> % gives remainder\n",
    "print(b%d)"
   ]
  },
  {
   "cell_type": "code",
   "execution_count": 26,
   "id": "22874fc6",
   "metadata": {},
   "outputs": [
    {
     "name": "stdout",
     "output_type": "stream",
     "text": [
      "16\n"
     ]
    }
   ],
   "source": [
    "print(2**4)"
   ]
  },
  {
   "cell_type": "code",
   "execution_count": 27,
   "id": "82ac4f52",
   "metadata": {},
   "outputs": [],
   "source": [
    "#Operators\n",
    "\n",
    "#2. Relational Operators (==, !=, <, >)"
   ]
  },
  {
   "cell_type": "code",
   "execution_count": 47,
   "id": "809a3552",
   "metadata": {},
   "outputs": [],
   "source": [
    "a,b,c,d=5,10,15,3\n",
    "e,f='mitansh ','mitansh'"
   ]
  },
  {
   "cell_type": "code",
   "execution_count": 48,
   "id": "975b9cef",
   "metadata": {},
   "outputs": [
    {
     "name": "stdout",
     "output_type": "stream",
     "text": [
      "False\n",
      "True\n",
      "True\n",
      "False\n",
      "False\n",
      "True\n"
     ]
    }
   ],
   "source": [
    "print(a==b)\n",
    "print(a!=b)\n",
    "print(a>d)\n",
    "print(a>c)\n",
    "print(b<a)\n",
    "print(a<b)"
   ]
  },
  {
   "cell_type": "code",
   "execution_count": 49,
   "id": "738b6308",
   "metadata": {},
   "outputs": [
    {
     "name": "stdout",
     "output_type": "stream",
     "text": [
      "False\n"
     ]
    }
   ],
   "source": [
    "print(e==f)"
   ]
  },
  {
   "cell_type": "code",
   "execution_count": 2,
   "id": "e04473fb",
   "metadata": {},
   "outputs": [],
   "source": [
    "#3. Assignment Operators (=, +=, -=, *=, /=, //=, **=, %=)"
   ]
  },
  {
   "cell_type": "code",
   "execution_count": 3,
   "id": "08028d8b",
   "metadata": {},
   "outputs": [],
   "source": [
    "a=10\n",
    "b=15"
   ]
  },
  {
   "cell_type": "code",
   "execution_count": 5,
   "id": "c61e9a88",
   "metadata": {},
   "outputs": [
    {
     "name": "stdout",
     "output_type": "stream",
     "text": [
      "25\n"
     ]
    }
   ],
   "source": [
    "#  += ----> a+=b ----> a=a+b\n",
    "a+=b\n",
    "print(a)"
   ]
  },
  {
   "cell_type": "code",
   "execution_count": 6,
   "id": "48dc5be3",
   "metadata": {},
   "outputs": [
    {
     "name": "stdout",
     "output_type": "stream",
     "text": [
      "10\n"
     ]
    }
   ],
   "source": [
    "#  -= ----> a-=b ----> a=a-b\n",
    "a-=b\n",
    "print(a)"
   ]
  },
  {
   "cell_type": "code",
   "execution_count": 7,
   "id": "e0818be0",
   "metadata": {},
   "outputs": [
    {
     "name": "stdout",
     "output_type": "stream",
     "text": [
      "150\n"
     ]
    }
   ],
   "source": [
    "#  *= ----> a*=b ----> a=a*b\n",
    "a*=b\n",
    "print(a)"
   ]
  },
  {
   "cell_type": "code",
   "execution_count": 8,
   "id": "651b3714",
   "metadata": {},
   "outputs": [
    {
     "name": "stdout",
     "output_type": "stream",
     "text": [
      "10.0\n"
     ]
    }
   ],
   "source": [
    "#  /= ----> a/=b ----> a=a/b\n",
    "a/=b\n",
    "print(a)"
   ]
  },
  {
   "cell_type": "code",
   "execution_count": 9,
   "id": "17cfe7e5",
   "metadata": {},
   "outputs": [],
   "source": [
    "p,q=15,8"
   ]
  },
  {
   "cell_type": "code",
   "execution_count": 12,
   "id": "c99fb726",
   "metadata": {},
   "outputs": [
    {
     "name": "stdout",
     "output_type": "stream",
     "text": [
      "7\n"
     ]
    }
   ],
   "source": [
    "#  %= ----> p%=q ----> p=p%q\n",
    "p%=q\n",
    "print(p)"
   ]
  },
  {
   "cell_type": "code",
   "execution_count": 13,
   "id": "4447d2e9",
   "metadata": {},
   "outputs": [
    {
     "name": "stdout",
     "output_type": "stream",
     "text": [
      "0\n"
     ]
    }
   ],
   "source": [
    "#  //= ----> p//=q ----> p=p//q\n",
    "p//=q\n",
    "print(p)"
   ]
  },
  {
   "cell_type": "code",
   "execution_count": 14,
   "id": "0395455a",
   "metadata": {},
   "outputs": [
    {
     "name": "stdout",
     "output_type": "stream",
     "text": [
      "3.3333333333333335\n"
     ]
    }
   ],
   "source": [
    "m,n=10,3\n",
    "\n",
    "print(10/3)"
   ]
  },
  {
   "cell_type": "code",
   "execution_count": 15,
   "id": "362d092e",
   "metadata": {},
   "outputs": [
    {
     "name": "stdout",
     "output_type": "stream",
     "text": [
      "3\n"
     ]
    }
   ],
   "source": [
    "print(10//3)"
   ]
  },
  {
   "cell_type": "code",
   "execution_count": 16,
   "id": "ae5a7b12",
   "metadata": {},
   "outputs": [
    {
     "data": {
      "text/plain": [
       "0.875"
      ]
     },
     "execution_count": 16,
     "metadata": {},
     "output_type": "execute_result"
    }
   ],
   "source": [
    "7/8"
   ]
  },
  {
   "cell_type": "code",
   "execution_count": 17,
   "id": "cda7cb0e",
   "metadata": {},
   "outputs": [
    {
     "data": {
      "text/plain": [
       "0"
      ]
     },
     "execution_count": 17,
     "metadata": {},
     "output_type": "execute_result"
    }
   ],
   "source": [
    "7//8"
   ]
  },
  {
   "cell_type": "code",
   "execution_count": 19,
   "id": "45d00407",
   "metadata": {},
   "outputs": [
    {
     "data": {
      "text/plain": [
       "2"
      ]
     },
     "execution_count": 19,
     "metadata": {},
     "output_type": "execute_result"
    }
   ],
   "source": [
    "10%4"
   ]
  },
  {
   "cell_type": "code",
   "execution_count": 26,
   "id": "3a807e41",
   "metadata": {},
   "outputs": [],
   "source": [
    "# 4. logical Operators (and, or, not)\n",
    "a,b,c= 16,12,19\n",
    "d,e,f= 'Mitansh','Viransh','Varad'"
   ]
  },
  {
   "cell_type": "code",
   "execution_count": 22,
   "id": "45c77423",
   "metadata": {},
   "outputs": [
    {
     "data": {
      "text/plain": [
       "True"
      ]
     },
     "execution_count": 22,
     "metadata": {},
     "output_type": "execute_result"
    }
   ],
   "source": [
    "# and (Both conditions must be true for a TRUE output)\n",
    "\n",
    "a>=16 and b>10"
   ]
  },
  {
   "cell_type": "code",
   "execution_count": 25,
   "id": "57bf98bf",
   "metadata": {},
   "outputs": [
    {
     "data": {
      "text/plain": [
       "True"
      ]
     },
     "execution_count": 25,
     "metadata": {},
     "output_type": "execute_result"
    }
   ],
   "source": [
    "p,q=3,4\n",
    "\n",
    "p>3 or p<4"
   ]
  },
  {
   "cell_type": "code",
   "execution_count": 28,
   "id": "04d0b973",
   "metadata": {},
   "outputs": [
    {
     "data": {
      "text/plain": [
       "False"
      ]
     },
     "execution_count": 28,
     "metadata": {},
     "output_type": "execute_result"
    }
   ],
   "source": [
    "not(a!=15)"
   ]
  },
  {
   "cell_type": "code",
   "execution_count": 1,
   "id": "c3ea9653",
   "metadata": {},
   "outputs": [],
   "source": [
    "# 5. Membership operators (in, not in)"
   ]
  },
  {
   "cell_type": "code",
   "execution_count": 2,
   "id": "a1bfb8ac",
   "metadata": {},
   "outputs": [],
   "source": [
    "a=[54, 12, 18, 64, 37]"
   ]
  },
  {
   "cell_type": "code",
   "execution_count": 3,
   "id": "4c058ff1",
   "metadata": {},
   "outputs": [
    {
     "data": {
      "text/plain": [
       "True"
      ]
     },
     "execution_count": 3,
     "metadata": {},
     "output_type": "execute_result"
    }
   ],
   "source": [
    "12 in a"
   ]
  },
  {
   "cell_type": "code",
   "execution_count": 5,
   "id": "670d3a7c",
   "metadata": {},
   "outputs": [
    {
     "data": {
      "text/plain": [
       "False"
      ]
     },
     "execution_count": 5,
     "metadata": {},
     "output_type": "execute_result"
    }
   ],
   "source": [
    "64 not in a"
   ]
  },
  {
   "cell_type": "code",
   "execution_count": 8,
   "id": "5df8f7cc",
   "metadata": {},
   "outputs": [
    {
     "data": {
      "text/plain": [
       "False"
      ]
     },
     "execution_count": 8,
     "metadata": {},
     "output_type": "execute_result"
    }
   ],
   "source": [
    "n = 34\n",
    "\n",
    "n in range (1,34)"
   ]
  },
  {
   "cell_type": "code",
   "execution_count": 9,
   "id": "2e2bcd17",
   "metadata": {},
   "outputs": [
    {
     "data": {
      "text/plain": [
       "41.0"
      ]
     },
     "execution_count": 9,
     "metadata": {},
     "output_type": "execute_result"
    }
   ],
   "source": [
    "#Expressions:\n",
    "\n",
    "12+68/4*2-5\n",
    "\n",
    "#Step 1: 68/4 = 17\n",
    "#   12+17*2-5\n",
    "\n",
    "#Step 2: 17*2 = 34\n",
    "#   12+34-5\n",
    "\n",
    "#Step 3: 12+34 = 46\n",
    "#   46-5\n",
    "\n",
    "#Step 4: 46-5 = 41"
   ]
  },
  {
   "cell_type": "code",
   "execution_count": 10,
   "id": "8494da1a",
   "metadata": {},
   "outputs": [
    {
     "data": {
      "text/plain": [
       "-47"
      ]
     },
     "execution_count": 10,
     "metadata": {},
     "output_type": "execute_result"
    }
   ],
   "source": [
    "1+2*(9-15)*4\n",
    "\n",
    "# S1: (9-15)= -6\n",
    "#  1+2*(-6)*4\n",
    "\n",
    "# S2: 2*(-6) = -12\n",
    "# 1 + -12*4\n",
    "\n",
    "# S3: -12*4 = -48\n",
    "# 1 + -48\n",
    "\n",
    "# S4: 1 - 48 = (- 47)\n"
   ]
  },
  {
   "cell_type": "code",
   "execution_count": 11,
   "id": "a1b85598",
   "metadata": {},
   "outputs": [],
   "source": [
    "#Debugging (Types of Errors):\n",
    "#1. Logical Error\n",
    "#2. RunTime Error\n",
    "#3. Syntax Error"
   ]
  },
  {
   "cell_type": "code",
   "execution_count": 12,
   "id": "b0486263",
   "metadata": {},
   "outputs": [
    {
     "data": {
      "text/plain": [
       "71.0"
      ]
     },
     "execution_count": 12,
     "metadata": {},
     "output_type": "execute_result"
    }
   ],
   "source": [
    "50+42/2"
   ]
  },
  {
   "cell_type": "code",
   "execution_count": 13,
   "id": "3c45ded5",
   "metadata": {},
   "outputs": [
    {
     "data": {
      "text/plain": [
       "46.0"
      ]
     },
     "execution_count": 13,
     "metadata": {},
     "output_type": "execute_result"
    }
   ],
   "source": [
    "(50+42)/2"
   ]
  },
  {
   "cell_type": "code",
   "execution_count": 14,
   "id": "f0b7ee8e",
   "metadata": {},
   "outputs": [
    {
     "ename": "ZeroDivisionError",
     "evalue": "division by zero",
     "output_type": "error",
     "traceback": [
      "\u001b[1;31m---------------------------------------------------------------------------\u001b[0m",
      "\u001b[1;31mZeroDivisionError\u001b[0m                         Traceback (most recent call last)",
      "\u001b[1;32m<ipython-input-14-ba55ee0f3d4c>\u001b[0m in \u001b[0;36m<module>\u001b[1;34m\u001b[0m\n\u001b[1;32m----> 1\u001b[1;33m \u001b[0mprint\u001b[0m\u001b[1;33m(\u001b[0m\u001b[1;36m9\u001b[0m\u001b[1;33m/\u001b[0m\u001b[1;36m0\u001b[0m\u001b[1;33m)\u001b[0m\u001b[1;33m\u001b[0m\u001b[1;33m\u001b[0m\u001b[0m\n\u001b[0m",
      "\u001b[1;31mZeroDivisionError\u001b[0m: division by zero"
     ]
    }
   ],
   "source": [
    "print(9/0)"
   ]
  },
  {
   "cell_type": "code",
   "execution_count": 18,
   "id": "3c86fa9c",
   "metadata": {},
   "outputs": [
    {
     "ename": "SyntaxError",
     "evalue": "invalid syntax (<ipython-input-18-65195b8138f7>, line 1)",
     "output_type": "error",
     "traceback": [
      "\u001b[1;36m  File \u001b[1;32m\"<ipython-input-18-65195b8138f7>\"\u001b[1;36m, line \u001b[1;32m1\u001b[0m\n\u001b[1;33m    print(We study IP.)\u001b[0m\n\u001b[1;37m             ^\u001b[0m\n\u001b[1;31mSyntaxError\u001b[0m\u001b[1;31m:\u001b[0m invalid syntax\n"
     ]
    }
   ],
   "source": [
    "print(We study IP.)"
   ]
  },
  {
   "cell_type": "code",
   "execution_count": 19,
   "id": "37f79adf",
   "metadata": {},
   "outputs": [
    {
     "ename": "SyntaxError",
     "evalue": "EOL while scanning string literal (<ipython-input-19-563fc08a6b1f>, line 1)",
     "output_type": "error",
     "traceback": [
      "\u001b[1;36m  File \u001b[1;32m\"<ipython-input-19-563fc08a6b1f>\"\u001b[1;36m, line \u001b[1;32m1\u001b[0m\n\u001b[1;33m    print('We study IP.)\u001b[0m\n\u001b[1;37m                        ^\u001b[0m\n\u001b[1;31mSyntaxError\u001b[0m\u001b[1;31m:\u001b[0m EOL while scanning string literal\n"
     ]
    }
   ],
   "source": [
    "print('We study IP.)"
   ]
  },
  {
   "cell_type": "code",
   "execution_count": 21,
   "id": "837f39cb",
   "metadata": {},
   "outputs": [
    {
     "name": "stdout",
     "output_type": "stream",
     "text": [
      "4\n"
     ]
    }
   ],
   "source": [
    "my_list = [1, 2, 3, 4, 5, 6]\n",
    "print(my_list[3])"
   ]
  },
  {
   "cell_type": "code",
   "execution_count": 29,
   "id": "1b070b9d",
   "metadata": {},
   "outputs": [],
   "source": [
    "dict={\n",
    "    'MH':'Mumbai',\n",
    "    'CG':'Raipur',\n",
    "    'RJ':'Jaipur',\n",
    "    'HR':'Chandigarh',\n",
    "    'GJ':'Gandhinagar'\n",
    "}"
   ]
  },
  {
   "cell_type": "code",
   "execution_count": 30,
   "id": "517a1a4a",
   "metadata": {},
   "outputs": [
    {
     "name": "stdout",
     "output_type": "stream",
     "text": [
      "Mumbai\n"
     ]
    }
   ],
   "source": [
    "print(dict['MH'])"
   ]
  },
  {
   "cell_type": "code",
   "execution_count": 31,
   "id": "f13c1d84",
   "metadata": {},
   "outputs": [
    {
     "name": "stdout",
     "output_type": "stream",
     "text": [
      "Gandhinagar\n"
     ]
    }
   ],
   "source": [
    "print(dict['GJ'])"
   ]
  },
  {
   "cell_type": "code",
   "execution_count": 32,
   "id": "e486401e",
   "metadata": {},
   "outputs": [
    {
     "ename": "KeyError",
     "evalue": "'TM'",
     "output_type": "error",
     "traceback": [
      "\u001b[1;31m---------------------------------------------------------------------------\u001b[0m",
      "\u001b[1;31mKeyError\u001b[0m                                  Traceback (most recent call last)",
      "\u001b[1;32m<ipython-input-32-cc55d41babff>\u001b[0m in \u001b[0;36m<module>\u001b[1;34m\u001b[0m\n\u001b[1;32m----> 1\u001b[1;33m \u001b[0mdict\u001b[0m\u001b[1;33m[\u001b[0m\u001b[1;34m'TM'\u001b[0m\u001b[1;33m]\u001b[0m\u001b[1;33m\u001b[0m\u001b[1;33m\u001b[0m\u001b[0m\n\u001b[0m",
      "\u001b[1;31mKeyError\u001b[0m: 'TM'"
     ]
    }
   ],
   "source": [
    "dict['TM']"
   ]
  },
  {
   "cell_type": "code",
   "execution_count": null,
   "id": "286147f3",
   "metadata": {},
   "outputs": [],
   "source": []
  }
 ],
 "metadata": {
  "kernelspec": {
   "display_name": "Python 3",
   "language": "python",
   "name": "python3"
  },
  "language_info": {
   "codemirror_mode": {
    "name": "ipython",
    "version": 3
   },
   "file_extension": ".py",
   "mimetype": "text/x-python",
   "name": "python",
   "nbconvert_exporter": "python",
   "pygments_lexer": "ipython3",
   "version": "3.8.8"
  }
 },
 "nbformat": 4,
 "nbformat_minor": 5
}
