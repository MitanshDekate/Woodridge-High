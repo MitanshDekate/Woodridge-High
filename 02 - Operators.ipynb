{
 "cells": [
  {
   "cell_type": "code",
   "execution_count": 2,
   "id": "a6f2115f",
   "metadata": {},
   "outputs": [],
   "source": [
    "# 1. Arithmetic Operators (+, -, *, /, **, //, %) \n",
    "# 2. Relational Operators (==, !=, >, <)\n",
    "# 3. Assignment Operators (=, +=, -=, *=, /=) ....\n",
    "# 4. Logical Operators (and, or, not)\n",
    "# 5. Membership Operators (in, not in)"
   ]
  },
  {
   "cell_type": "code",
   "execution_count": 3,
   "id": "4f2c8152",
   "metadata": {},
   "outputs": [],
   "source": [
    "# 1. Arithmetic Operators:\n",
    "\n",
    "a,b=7,2"
   ]
  },
  {
   "cell_type": "code",
   "execution_count": 5,
   "id": "d2bfb9b3",
   "metadata": {},
   "outputs": [
    {
     "name": "stdout",
     "output_type": "stream",
     "text": [
      "9\n",
      "5\n",
      "14\n",
      "3.5\n",
      "49\n",
      "3\n",
      "1\n"
     ]
    }
   ],
   "source": [
    "# Addition\n",
    "print(a+b)\n",
    "# Subtraction\n",
    "print(a-b)\n",
    "# Multiplication\n",
    "print(a*b)\n",
    "# Division\n",
    "print(a/b)\n",
    "# Power to\n",
    "print(a**b)\n",
    "# Double Division (Floor) - only quotient\n",
    "print(a//b)\n",
    "# Modulus - only remainder\n",
    "print(a%b)"
   ]
  },
  {
   "cell_type": "code",
   "execution_count": 22,
   "id": "0d95f896",
   "metadata": {},
   "outputs": [
    {
     "name": "stdout",
     "output_type": "stream",
     "text": [
      "False\n",
      "True\n",
      "False\n",
      "True\n"
     ]
    }
   ],
   "source": [
    "# 2. Relational Operators\n",
    "\n",
    "# Compare if equal\n",
    "print(a==b)\n",
    "# Compare if not equal\n",
    "print(a!=b)\n",
    "# Compare if greater than\n",
    "print(a>b)\n",
    "# Compare if less than\n",
    "print(a<b)"
   ]
  },
  {
   "cell_type": "code",
   "execution_count": 16,
   "id": "8e363549",
   "metadata": {},
   "outputs": [],
   "source": [
    "# 3. Assignment Operators function as follows:\n",
    "# a+=b is (a=a+b) and so on\n",
    "\n",
    "a,b=7,2"
   ]
  },
  {
   "cell_type": "code",
   "execution_count": 17,
   "id": "f51a14d4",
   "metadata": {},
   "outputs": [
    {
     "name": "stdout",
     "output_type": "stream",
     "text": [
      "9\n",
      "7\n",
      "14\n",
      "7.0\n"
     ]
    }
   ],
   "source": [
    "a+=b\n",
    "print(a)\n",
    "a-=b\n",
    "print(a)\n",
    "a*=b\n",
    "print(a)\n",
    "a/=b\n",
    "print(a)"
   ]
  },
  {
   "cell_type": "code",
   "execution_count": 18,
   "id": "47937fdd",
   "metadata": {},
   "outputs": [],
   "source": [
    "# 4. Logical Operators:\n",
    "\n",
    "a,b=10,15"
   ]
  },
  {
   "cell_type": "code",
   "execution_count": 19,
   "id": "c6562067",
   "metadata": {},
   "outputs": [
    {
     "name": "stdout",
     "output_type": "stream",
     "text": [
      "False\n",
      "True\n",
      "False\n"
     ]
    }
   ],
   "source": [
    "# Both true, output true, else false\n",
    "print((a==10) and (b==12))\n",
    "# Any one, output true, else false\n",
    "print((a==10) or (b==12))\n",
    "# Inverts the actual output\n",
    "print(not(a==10))"
   ]
  },
  {
   "cell_type": "code",
   "execution_count": 20,
   "id": "77dcdd4c",
   "metadata": {},
   "outputs": [],
   "source": [
    "# 5. Membership Operators:\n",
    "\n",
    "l = [1,2,3,4,5]"
   ]
  },
  {
   "cell_type": "code",
   "execution_count": 21,
   "id": "604dfc37",
   "metadata": {},
   "outputs": [
    {
     "name": "stdout",
     "output_type": "stream",
     "text": [
      "True\n",
      "False\n",
      "True\n",
      "False\n"
     ]
    }
   ],
   "source": [
    "# (in, not in)\n",
    "print(2 in l)\n",
    "print(10 in l)\n",
    "print(10 not in l)\n",
    "print(2 not in l)"
   ]
  }
 ],
 "metadata": {
  "kernelspec": {
   "display_name": "Python 3",
   "language": "python",
   "name": "python3"
  },
  "language_info": {
   "codemirror_mode": {
    "name": "ipython",
    "version": 3
   },
   "file_extension": ".py",
   "mimetype": "text/x-python",
   "name": "python",
   "nbconvert_exporter": "python",
   "pygments_lexer": "ipython3",
   "version": "3.8.8"
  }
 },
 "nbformat": 4,
 "nbformat_minor": 5
}
